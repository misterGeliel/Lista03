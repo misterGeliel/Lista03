{
  "nbformat": 4,
  "nbformat_minor": 0,
  "metadata": {
    "colab": {
      "provenance": [],
      "authorship_tag": "ABX9TyP1m0RxjE1wzgFxEW5WN5z8",
      "include_colab_link": true
    },
    "kernelspec": {
      "name": "python3",
      "display_name": "Python 3"
    },
    "language_info": {
      "name": "python"
    }
  },
  "cells": [
    {
      "cell_type": "markdown",
      "metadata": {
        "id": "view-in-github",
        "colab_type": "text"
      },
      "source": [
        "<a href=\"https://colab.research.google.com/github/misterGeliel/Lista03/blob/main/Exerc%C3%ADcioLista03.ipynb\" target=\"_parent\"><img src=\"https://colab.research.google.com/assets/colab-badge.svg\" alt=\"Open In Colab\"/></a>"
      ]
    },
    {
      "cell_type": "markdown",
      "source": [
        "Exercício 1: Escreva um programa que cria uma lista de números inteiros e exibe o maior número da lista."
      ],
      "metadata": {
        "id": "GM5mQ1GOVb17"
      }
    },
    {
      "cell_type": "code",
      "execution_count": 1,
      "metadata": {
        "colab": {
          "base_uri": "https://localhost:8080/"
        },
        "id": "Jy_0n6r-VZz3",
        "outputId": "67ea3b2d-96a0-44b6-8367-b8011900a589"
      },
      "outputs": [
        {
          "output_type": "stream",
          "name": "stdout",
          "text": [
            "O maior número da lista é: 15\n"
          ]
        }
      ],
      "source": [
        "# Criando uma lista de números inteiros\n",
        "numeros = [10, 2, 5, 8, 15, 1, 9]\n",
        "\n",
        "# Definindo uma variável para armazenar o maior número\n",
        "maior_numero = numeros[0]\n",
        "\n",
        "# Percorrendo a lista e comparando cada número com o maior número atual\n",
        "for numero in numeros:\n",
        "    if numero > maior_numero:\n",
        "        maior_numero = numero\n",
        "\n",
        "# Exibindo o maior número da lista\n",
        "print(f\"O maior número da lista é: {maior_numero}\")"
      ]
    },
    {
      "cell_type": "markdown",
      "source": [
        "Exercício 2: Escreva um programa que cria uma lista de nomes e exibe o número total de nomes na lista."
      ],
      "metadata": {
        "id": "SHVeKgBiWj32"
      }
    },
    {
      "cell_type": "code",
      "source": [
        "# Criando uma lista de nomes\n",
        "nomes = [\"João\", \"Maria\", \"Pedro\", \"Ana\", \"Carlos\", \"Beatriz\"]\n",
        "\n",
        "# Contando o número de nomes na lista\n",
        "numero_de_nomes = len(nomes)\n",
        "\n",
        "# Exibindo o número total de nomes\n",
        "print(f\"O número total de nomes na lista é: {numero_de_nomes}\")"
      ],
      "metadata": {
        "colab": {
          "base_uri": "https://localhost:8080/"
        },
        "id": "vVqFBAGaWtKQ",
        "outputId": "8d7e2787-187e-41e6-eac7-acf47890ebe7"
      },
      "execution_count": 2,
      "outputs": [
        {
          "output_type": "stream",
          "name": "stdout",
          "text": [
            "O número total de nomes na lista é: 6\n"
          ]
        }
      ]
    },
    {
      "cell_type": "markdown",
      "source": [
        "Exercício 3: Escreva um programa que cria uma lista de números inteiros e exibe a soma de todos os números da\n",
        "lista."
      ],
      "metadata": {
        "id": "BZxeF1_ibOok"
      }
    },
    {
      "cell_type": "code",
      "source": [
        "# Criando uma lista de números inteiros\n",
        "numeros = [10, 2, 5, 8, 15, 1, 9]\n",
        "\n",
        "# Definindo uma variável para armazenar a soma dos números\n",
        "soma = 0\n",
        "\n",
        "# Percorrendo a lista e somando cada número\n",
        "for numero in numeros:\n",
        "    soma += numero\n",
        "\n",
        "# Exibindo a soma dos números da lista\n",
        "print(f\"A soma dos números da lista é: {soma}\")"
      ],
      "metadata": {
        "colab": {
          "base_uri": "https://localhost:8080/"
        },
        "id": "vpoNoGa1bTYz",
        "outputId": "75624eb1-d6b8-486a-e3c1-3910d7419b8e"
      },
      "execution_count": 3,
      "outputs": [
        {
          "output_type": "stream",
          "name": "stdout",
          "text": [
            "A soma dos números da lista é: 50\n"
          ]
        }
      ]
    },
    {
      "cell_type": "markdown",
      "source": [
        "Exercício 4: Escreva um programa que cria uma lista de números inteiros e exibe a média dos números da lista."
      ],
      "metadata": {
        "id": "hD2-KpHOcEFL"
      }
    },
    {
      "cell_type": "code",
      "source": [
        "# Criando uma lista de números inteiros\n",
        "numeros = [10, 2, 5, 8, 15, 1, 9]\n",
        "\n",
        "# Definindo uma variável para armazenar a soma dos números\n",
        "soma = 0\n",
        "\n",
        "# Percorrendo a lista e somando cada número\n",
        "for numero in numeros:\n",
        "    soma += numero\n",
        "\n",
        "# Calculando a média dos números\n",
        "media = soma / len(numeros)\n",
        "\n",
        "# Exibindo a média dos números da lista\n",
        "print(f\"A média dos números da lista é: {media}\")"
      ],
      "metadata": {
        "colab": {
          "base_uri": "https://localhost:8080/"
        },
        "id": "O70PEXZXcSYA",
        "outputId": "53defb2e-f146-43d6-9d24-8b9083f096c8"
      },
      "execution_count": 4,
      "outputs": [
        {
          "output_type": "stream",
          "name": "stdout",
          "text": [
            "A média dos números da lista é: 7.142857142857143\n"
          ]
        }
      ]
    },
    {
      "cell_type": "markdown",
      "source": [
        "Exercício 5: Escreva um programa que cria uma lista de palavras e exibe a quantidade de palavras que começam\n",
        "com a letra 'A'."
      ],
      "metadata": {
        "id": "l08RUD_hc8jj"
      }
    },
    {
      "cell_type": "code",
      "source": [
        "def contar_palavras_com_a(lista_palavras):\n",
        "\n",
        "  contagem_palavras_com_a = 0\n",
        "  for palavra in lista_palavras:\n",
        "    if palavra[0].lower() == \"a\":\n",
        "      contagem_palavras_com_a += 1\n",
        "  return contagem_palavras_com_a\n",
        "\n",
        "# Teste da função\n",
        "lista_palavras = [\"Abacaxi\", \"Banana\", \"Casa\", \"Abacate\", \"Elefante\"]\n",
        "quantidade_palavras_com_a = contar_palavras_com_a(lista_palavras)\n",
        "\n",
        "print(f\"Quantidade de palavras que começam com a letra 'A': {quantidade_palavras_com_a}\")"
      ],
      "metadata": {
        "colab": {
          "base_uri": "https://localhost:8080/"
        },
        "id": "w8VAM8VQeRSV",
        "outputId": "75f3cf0e-3c84-4a4b-94e3-fa7f60f0cc76"
      },
      "execution_count": 6,
      "outputs": [
        {
          "output_type": "stream",
          "name": "stdout",
          "text": [
            "Quantidade de palavras que começam com a letra 'A': 2\n"
          ]
        }
      ]
    },
    {
      "cell_type": "markdown",
      "source": [
        "Exercício 6: Escreva um programa que cria uma lista de strings e exibe a mais longa palavra da lista."
      ],
      "metadata": {
        "id": "lzKwn8VFeuBo"
      }
    },
    {
      "cell_type": "code",
      "source": [
        "def encontrar_palavra_mais_longa(lista_palavras):\n",
        "  \"\"\"\n",
        "  Função que encontra a palavra mais longa em uma lista de strings.\n",
        "\n",
        "  Argumentos:\n",
        "    lista_palavras: Uma lista de strings.\n",
        "\n",
        "  Retorno:\n",
        "    Uma string que representa a palavra mais longa da lista.\n",
        "  \"\"\"\n",
        "  palavra_mais_longa = \"\"\n",
        "  for palavra in lista_palavras:\n",
        "    if len(palavra) > len(palavra_mais_longa):\n",
        "      palavra_mais_longa = palavra\n",
        "  return palavra_mais_longa\n",
        "\n",
        "# Teste da função\n",
        "lista_palavras = [\"Abacaxi\", \"Banana\", \"Casa\", \"Abacate\", \"Elefante\", \"Pneumoultramicroscopicsilicovolcanoconiosis\"]\n",
        "palavra_mais_longa = encontrar_palavra_mais_longa(lista_palavras)\n",
        "\n",
        "print(f\"Palavra mais longa: {palavra_mais_longa}\")"
      ],
      "metadata": {
        "colab": {
          "base_uri": "https://localhost:8080/"
        },
        "id": "VIG4y9Rke2Tj",
        "outputId": "0295a1c8-fba0-4533-f4f2-23799f163b22"
      },
      "execution_count": 7,
      "outputs": [
        {
          "output_type": "stream",
          "name": "stdout",
          "text": [
            "Palavra mais longa: Pneumoultramicroscopicsilicovolcanoconiosis\n"
          ]
        }
      ]
    },
    {
      "cell_type": "markdown",
      "source": [
        "Exercício 7: Escreva um programa que cria uma lista de números inteiros e exibe os números pares da lista."
      ],
      "metadata": {
        "id": "-q9yanMif4lu"
      }
    },
    {
      "cell_type": "code",
      "source": [
        "def exibir_numeros_pares(lista_numeros):\n",
        "  \"\"\"\n",
        "  Função que exibe os números pares em uma lista de números inteiros.\n",
        "\n",
        "  Argumentos:\n",
        "    lista_numeros: Uma lista de números inteiros.\n",
        "  \"\"\"\n",
        "  for numero in lista_numeros:\n",
        "    if numero % 2 == 0:\n",
        "      print(numero)\n",
        "\n",
        "# Teste da função\n",
        "lista_numeros = [1, 2, 3, 4, 5, 6, 7, 8, 9, 10]\n",
        "exibir_numeros_pares(lista_numeros)"
      ],
      "metadata": {
        "colab": {
          "base_uri": "https://localhost:8080/"
        },
        "id": "UHhKkoSRgAwo",
        "outputId": "b0cbe283-fb99-4ef1-ced2-0a7c9dfce799"
      },
      "execution_count": 8,
      "outputs": [
        {
          "output_type": "stream",
          "name": "stdout",
          "text": [
            "2\n",
            "4\n",
            "6\n",
            "8\n",
            "10\n"
          ]
        }
      ]
    },
    {
      "cell_type": "markdown",
      "source": [
        "Exercício 8: Escreva um programa que cria uma lista de números inteiros e exibe os números ímpares da lista."
      ],
      "metadata": {
        "id": "iBq6AcZbguDn"
      }
    },
    {
      "cell_type": "code",
      "source": [
        "def exibir_numeros_impares(lista_numeros):\n",
        "  \"\"\"\n",
        "  Função que exibe os números ímpares em uma lista de números inteiros.\n",
        "\n",
        "  Argumentos:\n",
        "    lista_numeros: Uma lista de números inteiros.\n",
        "  \"\"\"\n",
        "  for numero in lista_numeros:\n",
        "    if numero % 2 == 1:\n",
        "      print(numero)\n",
        "\n",
        "# Teste da função\n",
        "lista_numeros = [1, 2, 3, 4, 5, 6, 7, 8, 9, 10]\n",
        "exibir_numeros_impares(lista_numeros)"
      ],
      "metadata": {
        "colab": {
          "base_uri": "https://localhost:8080/"
        },
        "id": "wp9OUxb-g26J",
        "outputId": "94ce2dc6-2b6b-4d24-8821-9341ea321dd2"
      },
      "execution_count": 9,
      "outputs": [
        {
          "output_type": "stream",
          "name": "stdout",
          "text": [
            "1\n",
            "3\n",
            "5\n",
            "7\n",
            "9\n"
          ]
        }
      ]
    },
    {
      "cell_type": "markdown",
      "source": [
        "Exercício 9: Escreva um programa que cria duas listas de números inteiros e exibe os números que estão presentes\n",
        "em ambas as listas."
      ],
      "metadata": {
        "id": "gVWaffS9m7p-"
      }
    },
    {
      "cell_type": "code",
      "source": [
        "def encontrar_numeros_em_comum(lista_numeros_1, lista_numeros_2):\n",
        "  \"\"\"\n",
        "  Função que encontra os números que estão presentes em ambas as listas.\n",
        "\n",
        "  Argumentos:\n",
        "    lista_numeros_1: Uma lista de números inteiros.\n",
        "    lista_numeros_2: Uma lista de números inteiros.\n",
        "\n",
        "  Retorno:\n",
        "    Uma lista de números inteiros que estão presentes em ambas as listas.\n",
        "  \"\"\"\n",
        "  numeros_em_comum = []\n",
        "  for numero_1 in lista_numeros_1:\n",
        "    if numero_1 in lista_numeros_2:\n",
        "      numeros_em_comum.append(numero_1)\n",
        "  return numeros_em_comum\n",
        "\n",
        "# Teste da função\n",
        "lista_numeros_1 = [1, 2, 3, 4, 5]\n",
        "lista_numeros_2 = [3, 4, 5, 6, 7]\n",
        "numeros_em_comum = encontrar_numeros_em_comum(lista_numeros_1, lista_numeros_2)\n",
        "\n",
        "print(f\"Números em comum: {numeros_em_comum}\")"
      ],
      "metadata": {
        "colab": {
          "base_uri": "https://localhost:8080/"
        },
        "id": "hOK2pDjJnQjI",
        "outputId": "0a158680-202e-4ca8-99c9-7d94902c4efb"
      },
      "execution_count": 10,
      "outputs": [
        {
          "output_type": "stream",
          "name": "stdout",
          "text": [
            "Números em comum: [3, 4, 5]\n"
          ]
        }
      ]
    },
    {
      "cell_type": "markdown",
      "source": [
        "Exercício 10: Escreva um programa que cria uma lista de números inteiros e remove todos os números repetidos,\n",
        "exibindo a lista resultante."
      ],
      "metadata": {
        "id": "cUadsidiofPo"
      }
    },
    {
      "cell_type": "code",
      "source": [
        "def remover_numeros_repetidos(lista_numeros):\n",
        "  \"\"\"\n",
        "  Função que remove todos os números repetidos de uma lista de números inteiros.\n",
        "\n",
        "  Argumentos:\n",
        "    lista_numeros: Uma lista de números inteiros.\n",
        "\n",
        "  Retorno:\n",
        "    Uma lista de números inteiros sem os números repetidos.\n",
        "  \"\"\"\n",
        "  numeros_sem_repeticao = set(lista_numeros)\n",
        "  return list(numeros_sem_repeticao)\n",
        "\n",
        "# Teste da função\n",
        "lista_numeros = [1, 2, 3, 4, 1, 2, 5, 6, 7, 7]\n",
        "numeros_sem_repeticao = remover_numeros_repetidos(lista_numeros)\n",
        "\n",
        "print(f\"Lista sem números repetidos: {numeros_sem_repeticao}\")"
      ],
      "metadata": {
        "colab": {
          "base_uri": "https://localhost:8080/"
        },
        "id": "bHLJ81UKo0rR",
        "outputId": "e389bb65-40b1-4daf-847d-a4914edf31ed"
      },
      "execution_count": 11,
      "outputs": [
        {
          "output_type": "stream",
          "name": "stdout",
          "text": [
            "Lista sem números repetidos: [1, 2, 3, 4, 5, 6, 7]\n"
          ]
        }
      ]
    }
  ]
}